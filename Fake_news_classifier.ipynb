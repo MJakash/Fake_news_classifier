{
  "nbformat": 4,
  "nbformat_minor": 0,
  "metadata": {
    "colab": {
      "provenance": []
    },
    "kernelspec": {
      "name": "python3",
      "display_name": "Python 3"
    },
    "language_info": {
      "name": "python"
    }
  },
  "cells": [
    {
      "cell_type": "markdown",
      "source": [
        "#Importing Necessary Libraries"
      ],
      "metadata": {
        "id": "4NbnRfojn1X2"
      }
    },
    {
      "cell_type": "code",
      "execution_count": null,
      "metadata": {
        "id": "lXU2D21vCPcG"
      },
      "outputs": [],
      "source": [
        "import pandas as pd\n",
        "import matplotlib.pyplot as plt\n",
        "import numpy as np\n",
        "import seaborn as sns\n",
        "import string\n",
        "import re\n",
        "from sklearn.model_selection import train_test_split\n",
        "from sklearn.metrics import accuracy_score\n",
        "from sklearn.metrics import classification_report"
      ]
    },
    {
      "cell_type": "markdown",
      "source": [
        "#Loading the data"
      ],
      "metadata": {
        "id": "MaEbNsorn72L"
      }
    },
    {
      "cell_type": "code",
      "source": [
        "train_df  = pd.read_csv('train.tsv',sep='\\t')\n",
        "test_df = pd.read_csv('test.tsv', sep='\\t')\n"
      ],
      "metadata": {
        "id": "PpoTE2yMESxO"
      },
      "execution_count": null,
      "outputs": []
    },
    {
      "cell_type": "code",
      "source": [
        "train_df.shape"
      ],
      "metadata": {
        "colab": {
          "base_uri": "https://localhost:8080/"
        },
        "id": "4TX6sUzvEevC",
        "outputId": "c8eb0638-0579-4bd2-9cc4-5f7bc90a306f"
      },
      "execution_count": null,
      "outputs": [
        {
          "output_type": "execute_result",
          "data": {
            "text/plain": [
              "(30000, 6)"
            ]
          },
          "metadata": {},
          "execution_count": 41
        }
      ]
    },
    {
      "cell_type": "code",
      "source": [
        "test_df.shape"
      ],
      "metadata": {
        "colab": {
          "base_uri": "https://localhost:8080/"
        },
        "id": "M12O9f6WoMoZ",
        "outputId": "50a6e07f-2bfe-4a11-b3fb-9cb5cc8f1f1d"
      },
      "execution_count": null,
      "outputs": [
        {
          "output_type": "execute_result",
          "data": {
            "text/plain": [
              "(8267, 6)"
            ]
          },
          "metadata": {},
          "execution_count": 43
        }
      ]
    },
    {
      "cell_type": "markdown",
      "source": [
        "#Data Preview"
      ],
      "metadata": {
        "id": "jFlfORr1oxwm"
      }
    },
    {
      "cell_type": "code",
      "source": [
        "train_df.head()"
      ],
      "metadata": {
        "colab": {
          "base_uri": "https://localhost:8080/",
          "height": 206
        },
        "id": "FFt3WEzxEgx-",
        "outputId": "e1bf9bfc-c310-4402-ee7c-4b92cc40b9ff"
      },
      "execution_count": null,
      "outputs": [
        {
          "output_type": "execute_result",
          "data": {
            "text/plain": [
              "   Unnamed: 0                                              title  \\\n",
              "0        2619  Ex-CIA head says Trump remarks on Russia inter...   \n",
              "1       16043  YOU WON’T BELIEVE HIS PUNISHMENT! HISPANIC STO...   \n",
              "2         876  Federal Reserve governor Powell's policy views...   \n",
              "3       19963  SCOUNDREL HILLARY SUPPORTER STARTS “TrumpLeaks...   \n",
              "4       10783  NANCY PELOSI ARROGANTLY DISMISSES Questions on...   \n",
              "\n",
              "                                                text          subject  \\\n",
              "0  Former CIA director John Brennan on Friday cri...     politicsNews   \n",
              "1  How did this man come to OWN this store? There...  Government News   \n",
              "2  President Donald Trump on Thursday tapped Fede...     politicsNews   \n",
              "3  Hillary Clinton ally David Brock is offering t...        left-news   \n",
              "4  Pleading ignorance is a perfect ploy for Nancy...         politics   \n",
              "\n",
              "                date  label  \n",
              "0     July 22, 2017       1  \n",
              "1       Jun 19, 2017      0  \n",
              "2  November 2, 2017       1  \n",
              "3       Sep 17, 2016      0  \n",
              "4       May 26, 2017      0  "
            ],
            "text/html": [
              "\n",
              "  <div id=\"df-b31e71f0-0105-4459-804c-854b7ba0702e\" class=\"colab-df-container\">\n",
              "    <div>\n",
              "<style scoped>\n",
              "    .dataframe tbody tr th:only-of-type {\n",
              "        vertical-align: middle;\n",
              "    }\n",
              "\n",
              "    .dataframe tbody tr th {\n",
              "        vertical-align: top;\n",
              "    }\n",
              "\n",
              "    .dataframe thead th {\n",
              "        text-align: right;\n",
              "    }\n",
              "</style>\n",
              "<table border=\"1\" class=\"dataframe\">\n",
              "  <thead>\n",
              "    <tr style=\"text-align: right;\">\n",
              "      <th></th>\n",
              "      <th>Unnamed: 0</th>\n",
              "      <th>title</th>\n",
              "      <th>text</th>\n",
              "      <th>subject</th>\n",
              "      <th>date</th>\n",
              "      <th>label</th>\n",
              "    </tr>\n",
              "  </thead>\n",
              "  <tbody>\n",
              "    <tr>\n",
              "      <th>0</th>\n",
              "      <td>2619</td>\n",
              "      <td>Ex-CIA head says Trump remarks on Russia inter...</td>\n",
              "      <td>Former CIA director John Brennan on Friday cri...</td>\n",
              "      <td>politicsNews</td>\n",
              "      <td>July 22, 2017</td>\n",
              "      <td>1</td>\n",
              "    </tr>\n",
              "    <tr>\n",
              "      <th>1</th>\n",
              "      <td>16043</td>\n",
              "      <td>YOU WON’T BELIEVE HIS PUNISHMENT! HISPANIC STO...</td>\n",
              "      <td>How did this man come to OWN this store? There...</td>\n",
              "      <td>Government News</td>\n",
              "      <td>Jun 19, 2017</td>\n",
              "      <td>0</td>\n",
              "    </tr>\n",
              "    <tr>\n",
              "      <th>2</th>\n",
              "      <td>876</td>\n",
              "      <td>Federal Reserve governor Powell's policy views...</td>\n",
              "      <td>President Donald Trump on Thursday tapped Fede...</td>\n",
              "      <td>politicsNews</td>\n",
              "      <td>November 2, 2017</td>\n",
              "      <td>1</td>\n",
              "    </tr>\n",
              "    <tr>\n",
              "      <th>3</th>\n",
              "      <td>19963</td>\n",
              "      <td>SCOUNDREL HILLARY SUPPORTER STARTS “TrumpLeaks...</td>\n",
              "      <td>Hillary Clinton ally David Brock is offering t...</td>\n",
              "      <td>left-news</td>\n",
              "      <td>Sep 17, 2016</td>\n",
              "      <td>0</td>\n",
              "    </tr>\n",
              "    <tr>\n",
              "      <th>4</th>\n",
              "      <td>10783</td>\n",
              "      <td>NANCY PELOSI ARROGANTLY DISMISSES Questions on...</td>\n",
              "      <td>Pleading ignorance is a perfect ploy for Nancy...</td>\n",
              "      <td>politics</td>\n",
              "      <td>May 26, 2017</td>\n",
              "      <td>0</td>\n",
              "    </tr>\n",
              "  </tbody>\n",
              "</table>\n",
              "</div>\n",
              "    <div class=\"colab-df-buttons\">\n",
              "\n",
              "  <div class=\"colab-df-container\">\n",
              "    <button class=\"colab-df-convert\" onclick=\"convertToInteractive('df-b31e71f0-0105-4459-804c-854b7ba0702e')\"\n",
              "            title=\"Convert this dataframe to an interactive table.\"\n",
              "            style=\"display:none;\">\n",
              "\n",
              "  <svg xmlns=\"http://www.w3.org/2000/svg\" height=\"24px\" viewBox=\"0 -960 960 960\">\n",
              "    <path d=\"M120-120v-720h720v720H120Zm60-500h600v-160H180v160Zm220 220h160v-160H400v160Zm0 220h160v-160H400v160ZM180-400h160v-160H180v160Zm440 0h160v-160H620v160ZM180-180h160v-160H180v160Zm440 0h160v-160H620v160Z\"/>\n",
              "  </svg>\n",
              "    </button>\n",
              "\n",
              "  <style>\n",
              "    .colab-df-container {\n",
              "      display:flex;\n",
              "      gap: 12px;\n",
              "    }\n",
              "\n",
              "    .colab-df-convert {\n",
              "      background-color: #E8F0FE;\n",
              "      border: none;\n",
              "      border-radius: 50%;\n",
              "      cursor: pointer;\n",
              "      display: none;\n",
              "      fill: #1967D2;\n",
              "      height: 32px;\n",
              "      padding: 0 0 0 0;\n",
              "      width: 32px;\n",
              "    }\n",
              "\n",
              "    .colab-df-convert:hover {\n",
              "      background-color: #E2EBFA;\n",
              "      box-shadow: 0px 1px 2px rgba(60, 64, 67, 0.3), 0px 1px 3px 1px rgba(60, 64, 67, 0.15);\n",
              "      fill: #174EA6;\n",
              "    }\n",
              "\n",
              "    .colab-df-buttons div {\n",
              "      margin-bottom: 4px;\n",
              "    }\n",
              "\n",
              "    [theme=dark] .colab-df-convert {\n",
              "      background-color: #3B4455;\n",
              "      fill: #D2E3FC;\n",
              "    }\n",
              "\n",
              "    [theme=dark] .colab-df-convert:hover {\n",
              "      background-color: #434B5C;\n",
              "      box-shadow: 0px 1px 3px 1px rgba(0, 0, 0, 0.15);\n",
              "      filter: drop-shadow(0px 1px 2px rgba(0, 0, 0, 0.3));\n",
              "      fill: #FFFFFF;\n",
              "    }\n",
              "  </style>\n",
              "\n",
              "    <script>\n",
              "      const buttonEl =\n",
              "        document.querySelector('#df-b31e71f0-0105-4459-804c-854b7ba0702e button.colab-df-convert');\n",
              "      buttonEl.style.display =\n",
              "        google.colab.kernel.accessAllowed ? 'block' : 'none';\n",
              "\n",
              "      async function convertToInteractive(key) {\n",
              "        const element = document.querySelector('#df-b31e71f0-0105-4459-804c-854b7ba0702e');\n",
              "        const dataTable =\n",
              "          await google.colab.kernel.invokeFunction('convertToInteractive',\n",
              "                                                    [key], {});\n",
              "        if (!dataTable) return;\n",
              "\n",
              "        const docLinkHtml = 'Like what you see? Visit the ' +\n",
              "          '<a target=\"_blank\" href=https://colab.research.google.com/notebooks/data_table.ipynb>data table notebook</a>'\n",
              "          + ' to learn more about interactive tables.';\n",
              "        element.innerHTML = '';\n",
              "        dataTable['output_type'] = 'display_data';\n",
              "        await google.colab.output.renderOutput(dataTable, element);\n",
              "        const docLink = document.createElement('div');\n",
              "        docLink.innerHTML = docLinkHtml;\n",
              "        element.appendChild(docLink);\n",
              "      }\n",
              "    </script>\n",
              "  </div>\n",
              "\n",
              "\n",
              "<div id=\"df-e596dfb0-b81b-4306-8ef7-8b80bf185870\">\n",
              "  <button class=\"colab-df-quickchart\" onclick=\"quickchart('df-e596dfb0-b81b-4306-8ef7-8b80bf185870')\"\n",
              "            title=\"Suggest charts\"\n",
              "            style=\"display:none;\">\n",
              "\n",
              "<svg xmlns=\"http://www.w3.org/2000/svg\" height=\"24px\"viewBox=\"0 0 24 24\"\n",
              "     width=\"24px\">\n",
              "    <g>\n",
              "        <path d=\"M19 3H5c-1.1 0-2 .9-2 2v14c0 1.1.9 2 2 2h14c1.1 0 2-.9 2-2V5c0-1.1-.9-2-2-2zM9 17H7v-7h2v7zm4 0h-2V7h2v10zm4 0h-2v-4h2v4z\"/>\n",
              "    </g>\n",
              "</svg>\n",
              "  </button>\n",
              "\n",
              "<style>\n",
              "  .colab-df-quickchart {\n",
              "      --bg-color: #E8F0FE;\n",
              "      --fill-color: #1967D2;\n",
              "      --hover-bg-color: #E2EBFA;\n",
              "      --hover-fill-color: #174EA6;\n",
              "      --disabled-fill-color: #AAA;\n",
              "      --disabled-bg-color: #DDD;\n",
              "  }\n",
              "\n",
              "  [theme=dark] .colab-df-quickchart {\n",
              "      --bg-color: #3B4455;\n",
              "      --fill-color: #D2E3FC;\n",
              "      --hover-bg-color: #434B5C;\n",
              "      --hover-fill-color: #FFFFFF;\n",
              "      --disabled-bg-color: #3B4455;\n",
              "      --disabled-fill-color: #666;\n",
              "  }\n",
              "\n",
              "  .colab-df-quickchart {\n",
              "    background-color: var(--bg-color);\n",
              "    border: none;\n",
              "    border-radius: 50%;\n",
              "    cursor: pointer;\n",
              "    display: none;\n",
              "    fill: var(--fill-color);\n",
              "    height: 32px;\n",
              "    padding: 0;\n",
              "    width: 32px;\n",
              "  }\n",
              "\n",
              "  .colab-df-quickchart:hover {\n",
              "    background-color: var(--hover-bg-color);\n",
              "    box-shadow: 0 1px 2px rgba(60, 64, 67, 0.3), 0 1px 3px 1px rgba(60, 64, 67, 0.15);\n",
              "    fill: var(--button-hover-fill-color);\n",
              "  }\n",
              "\n",
              "  .colab-df-quickchart-complete:disabled,\n",
              "  .colab-df-quickchart-complete:disabled:hover {\n",
              "    background-color: var(--disabled-bg-color);\n",
              "    fill: var(--disabled-fill-color);\n",
              "    box-shadow: none;\n",
              "  }\n",
              "\n",
              "  .colab-df-spinner {\n",
              "    border: 2px solid var(--fill-color);\n",
              "    border-color: transparent;\n",
              "    border-bottom-color: var(--fill-color);\n",
              "    animation:\n",
              "      spin 1s steps(1) infinite;\n",
              "  }\n",
              "\n",
              "  @keyframes spin {\n",
              "    0% {\n",
              "      border-color: transparent;\n",
              "      border-bottom-color: var(--fill-color);\n",
              "      border-left-color: var(--fill-color);\n",
              "    }\n",
              "    20% {\n",
              "      border-color: transparent;\n",
              "      border-left-color: var(--fill-color);\n",
              "      border-top-color: var(--fill-color);\n",
              "    }\n",
              "    30% {\n",
              "      border-color: transparent;\n",
              "      border-left-color: var(--fill-color);\n",
              "      border-top-color: var(--fill-color);\n",
              "      border-right-color: var(--fill-color);\n",
              "    }\n",
              "    40% {\n",
              "      border-color: transparent;\n",
              "      border-right-color: var(--fill-color);\n",
              "      border-top-color: var(--fill-color);\n",
              "    }\n",
              "    60% {\n",
              "      border-color: transparent;\n",
              "      border-right-color: var(--fill-color);\n",
              "    }\n",
              "    80% {\n",
              "      border-color: transparent;\n",
              "      border-right-color: var(--fill-color);\n",
              "      border-bottom-color: var(--fill-color);\n",
              "    }\n",
              "    90% {\n",
              "      border-color: transparent;\n",
              "      border-bottom-color: var(--fill-color);\n",
              "    }\n",
              "  }\n",
              "</style>\n",
              "\n",
              "  <script>\n",
              "    async function quickchart(key) {\n",
              "      const quickchartButtonEl =\n",
              "        document.querySelector('#' + key + ' button');\n",
              "      quickchartButtonEl.disabled = true;  // To prevent multiple clicks.\n",
              "      quickchartButtonEl.classList.add('colab-df-spinner');\n",
              "      try {\n",
              "        const charts = await google.colab.kernel.invokeFunction(\n",
              "            'suggestCharts', [key], {});\n",
              "      } catch (error) {\n",
              "        console.error('Error during call to suggestCharts:', error);\n",
              "      }\n",
              "      quickchartButtonEl.classList.remove('colab-df-spinner');\n",
              "      quickchartButtonEl.classList.add('colab-df-quickchart-complete');\n",
              "    }\n",
              "    (() => {\n",
              "      let quickchartButtonEl =\n",
              "        document.querySelector('#df-e596dfb0-b81b-4306-8ef7-8b80bf185870 button');\n",
              "      quickchartButtonEl.style.display =\n",
              "        google.colab.kernel.accessAllowed ? 'block' : 'none';\n",
              "    })();\n",
              "  </script>\n",
              "</div>\n",
              "\n",
              "    </div>\n",
              "  </div>\n"
            ],
            "application/vnd.google.colaboratory.intrinsic+json": {
              "type": "dataframe",
              "variable_name": "train_df",
              "summary": "{\n  \"name\": \"train_df\",\n  \"rows\": 30000,\n  \"fields\": [\n    {\n      \"column\": \"Unnamed: 0\",\n      \"properties\": {\n        \"dtype\": \"number\",\n        \"std\": 6533,\n        \"min\": 0,\n        \"max\": 23479,\n        \"num_unique_values\": 20462,\n        \"samples\": [\n          11388,\n          8486,\n          3195\n        ],\n        \"semantic_type\": \"\",\n        \"description\": \"\"\n      }\n    },\n    {\n      \"column\": \"title\",\n      \"properties\": {\n        \"dtype\": \"string\",\n        \"num_unique_values\": 27149,\n        \"samples\": [\n          \"STRANGER THAN FICTION: Why Is Foundation of Vegas Shooting Survivor Sponsored By DHS Linked Firm?\",\n          \"Brexit deal on Irish border possible by Friday: EU Commission\",\n          \"Possible explosion detected near Argentine sub's last-known location\"\n        ],\n        \"semantic_type\": \"\",\n        \"description\": \"\"\n      }\n    },\n    {\n      \"column\": \"text\",\n      \"properties\": {\n        \"dtype\": \"string\",\n        \"num_unique_values\": 27317,\n        \"samples\": [\n          \"A recent opinion poll carried out by NBC News/Wall Street Journal showed that 78 percent of Americans, a number that appears to still be growing, would prefer to see an independent commissioner or special prosecutor handle the investigation into Russia s interference in the 2016 US presidential election, while a mere 15 percent believe congress can handle any ongoing probe.Last week was more than just a turbulent time in Washington. President Trump fired FBI head James Comey on Tuesday, the man responsible for the investigation into Trump s Russian ties. This latest poll was conducted between Thursday, May 11 and Saturday, May 13, just days after Comey s ousting, among 800 adults and has an overall margin of error of plus or minus 3.5 percentage points. The firing of the FBI director was a major upheaval in the investigation process, and these poll results reflect the current climate not only around Capitol Hill, but what is a rapidly growing consensus across the nation.Since Comey s dismissal, Trump and several members of his administration have tried to downplay the need for an independent commission to continue what the FBI had begun; looking into questions of Russian interference in last year s election, as well as the possibility of members of Trump s campaign colluding with Moscow. In fact, on Saturday the President stated in no uncertain terms that the investigation should continue to progress in the House, the Senate, the FBI. According to the same poll, only 29 percent of Americans say they approve of Comey s firing, while 38 percent disapprove. Another 32 percent of respondents don t have enough to say on the matter, yet among those who say they have read, seen or heard  a lot  about the firing, 53 percent say they disapprove, versus 33 percent who approve. The poll also showed a partisan split when it comes to the topic of the president s decision, with 58 percent of Republicans approving while 66 percent of Democrats disapprove of the move. One thing that is clear, however, is that very few people surveyed had no opinion at all, with low single-digit responses.As a whole, Trump s approval rating has remained steady at 39 percent since last Tuesday, however, 30 percent of those surveyed claimed that their impression of the president is less favorable since his decision to remove James Comey, while 61 percent say the move hasn t impacted their impression of President Trump whatsoever.Featured image via Drew Angerer/Getty Images\",\n          \"Patrick Henningsen 21st Century WireMuch was made this week in the US media about Michael Flynn s recent guilty plea to making false statements to the FBI, as part of Special Counsel Robert Mueller s never-ending  Russia probe.  Beyond the political window dressing however, there s a much bigger and more profound story lingering in the background. Although court documents show Flynn has admitted to giving false statements in reference to his  reaching out  to Russia s ambassador to the US, Sergey Kislyak   the mere act of initiating contact with any foreign official is neither illegal nor is it a violation of ethics. Putting the current Red Scare aside, this would normally be viewed as standard statecraft for members of any incoming US administration. Even if Flynn had promised the Russian Ambassador, as claimed this week by Resistance leader Rep. Elijah E. Cummings of Maryland, that a Trump government would  rip-up sanctions,  such a promise by Flynn would not be unlawful. Anyone can make a promise, we should point out here that neither Flynn, nor Donald Trump would be in any position to make good on such a promise without the blessing of the US Congress and Senate. Just look at what happened when Trump took office. Were any sanctions lifted?That said, after 18 months of fabricating fake news about Russian hacking, Russian meddling and Russian collusion, it s not surprising that the New York Times would get the Flynn story wrong too, and on an even bigger scale than many of their past made-up stories about Trump scandals. Here we have yet another hand-wringing Resistance writer, Harry Litman, claiming that Flynn s testimony will go down in history next to Watergate and Iran-Contra: The repercussions of the plea will be months in the making, but it s not an exaggeration to say that the events to which Mr. Flynn has agreed to testify will take their place in the history books alongside the Watergate and Iran-contra scandals. He might be right, if only the media coverage and the federal hearing would focus on the correct country with whom the Trump team was colluding, which unfortunately was not Russia. Funny how partisan writer Litman did not even mention the word Israel once in his report. Perhaps this is why certain persons in Washington like Adam Schiff, Chuck Schumer, John McCain and others, along with their corrupt media counterparts like CNN, the Washington Post and the New York Times have been incessantly pushing their fictional  Russia did it  narrative for the last 18 months   because Russiagate serves as a convenient overlay for Israelgate.Mehdi Hassan from The Intercept writes:  Why aren t more members of Congress or the media discussing the Trump transition team s pretty brazen collusion with Israeli Prime Minister Benjamin Netanyahu to undermine both U.S. government policy and international law? Shouldn t that be treated as a major scandal? Thanks to Mueller s ongoing investigation, we now know that prior to President Donald Trump s inauguration, members of his inner circle went to bat on behalf of Israel, and specifically on behalf of illegal Israeli settlements in the occupied Palestinian territories, behind the scenes and in opposition to official U.S. foreign policy. That s the kind of collusion with a foreign state that has gotten a lot of attention with respect to the Kremlin   but colluding with Israel seems to be of far less interest, strangely. Yes, you heard that right. This was at minimum collusion with Israel. But it goes much deeper than that. If this story is accurate, and we have every reason to believe it is (especially by the large silence in the American media, usually a positive indication of media avoidance), this would indicate that the then President-elect s close advisor and son-in-law, Jared Kushner, was clearly acting as a foreign agent   on behalf of the state of Israel. The fact the US media are not taking this story more seriously should serve as a reminder as to how much power the Israeli Lobby wields in the US, not just over politicians, but over mainstream media as well. Granted, this is a very serious charge   which comes with some serious consequences if Kushner would ever be indicted, but the facts clearly demonstrate beyond any reasonable doubt, that then President-elect s son-in-law was using his proximity to the incoming Commander and Chief to execute a series of highly sensitive foreign policy maneuvers at the request of a foreign country.The history of Israeli spying and outright meddling in US affairs is no secret to anyone willing to research it (unofficially a forbidden topic in US mainstream media), but this latest episode with Trump and Kushner is even more disturbing considering this week s controversial East Jerusalem announcement (21WIRE warned about an East Jerusalem provocation 12 months ago).Beyond this, many will argue that the radical fundamentalist Zionist agenda which Kushner is aggressively pursuing on behalf of Tel Aviv is not in the interest of the wider Middle East, nor is it good for America s European partners, and may even contribute to a further destablization of the region   as evidenced by recent violence which has erupted following Trump s provocative move. The result is not necessarily in America s interests, even if it is certainly in Israel s interests.Author Mehdi Hassan continues:Here s what we learned last week when Mueller s team unveiled its plea deal with Trump s former national security adviser, retired Gen. Michael Flynn. In December 2016, the United Nations Security Council was debating a draft resolution that condemned Israeli settlement expansion in the occupied territories as a  flagrant violation under international law  that was  dangerously imperiling the viability  of an independent Palestinian state.The Obama administration had made it clear that the U.S. was planning to abstain on the resolution, while noting that  the settlements have no legal validity  and observing how  the settlement problem has gotten so much worse that it is now putting at risk the   two-state solution.  (Rhetorically, at least, U.S. opposition to Israeli settlements has been a long-standing and bipartisan position for decades: Ronald Reagan called for  a real settlement freeze  in 1982 while George H.W. Bush tried to curb Israeli settlement-building plans by briefly cutting off U.S. loan guarantees to the Jewish state in 1991.)Everyone expected that the upcoming UN vote on illegal Israeli settlements was going to be a divisive issue, but with only weeks before Trump s fast approaching inauguration, Israel had its trojan horse in position. Hassan goes on to explain Tel Aviv s covert mechanism for manipulating the UN vote: On or about December 22, 2016, a very senior member of the Presidential Transition Team directed Flynn to contact officials from foreign governments, including Russia, to learn where each government stood on the resolution and to influence those governments to delay the vote or defeat the resolution,  reads the statement of offense against Flynn, who pleaded guilty to lying to the FBI about his conversations with the Russian ambassador to the U.S.  On or about December 22, 2016, Flynn contacted the Russian Ambassador about the pending vote. Flynn informed the Russian Ambassador about the incoming administration s opposition to the resolution, and requested that Russia vote against or delay the resolution. BFFs: Donald Trump talks to his chief foreign policy advisor, Israeli president Benjamin Netanyahu.So who was this very senior member of Trump s team who sought to execute orders from the office of Israeli President Benjamin Netanyahu? Hassan explains:Who was the  very senior member  of the transition team who  directed  Flynn to do all this? Multiple news outlets have confirmed that it was Jared Kushner, Trump s son-in-law and main point man on the Middle East peace process.  Jared called Flynn and told him you need to get on the phone to every member of the Security Council and tell them to delay the vote,  a Trump transition official revealed to BuzzFeed News on Friday, adding that Kushner told Flynn  this was a top priority for the president. According to BuzzFeed:  After hanging up, Flynn told the entire room [at the Trump transition team HQ] that they d have to start pushing to lobby against the U.N. vote, saying  the president wants this done ASAP.  Flynn s guilty plea, BuzzFeed continued, revealed  for the first time how Trump transition officials solicited Russia s help to head off the UN vote and undermine the Obama administration s policy on Middle East peace before ever setting foot in the White House. Even during the height of the Neocon era, with multiple Israeli loyalists in the cabinet (including some dual passport holders) shaping White House Middle East policy   ultimately into a ditch with Iraq, the level of manipulation wasn t this overt. Trump s decision to reverse successive US administrations  new policy on East Jerusalem is inconceivable, if not for some other x-factor which the PNAC-dominated George W. Bush could not even manage.The facts of the case against Kushner have not been contested, and in fact Kushner has even been gloating out on the speaking circuit, with his doting wife Ivanka proudly advertizing her husband s  accomplishment  on behalf Israel.My husband, Jared Kushner, had a great conversation on the Middle East with Haim Saban today at the Saban Forum. #Saban17https://t.co/BUbGfd1YNr  Ivanka Trump (@IvankaTrump) December 4, 2017 None of this has been contested. In fact, on Sunday, Kushner made a rare public appearance at the Saban Forum in Washington, D.C., to discuss the Trump administration s plans for the Middle East and was welcomed by the forum s sponsor, the Israeli-American billionaire Haim Saban, who said he  personally wanted to thank  Kushner for  taking steps to try and get the United Nations Security Council to not go along with what ended up being an abstention by the U.S.  Kushner s response? The first son-in-law smiled, nodded, and mouthed  thank you  to Saban.Meanwhile, the Israelis have been pretty forthcoming about their own role in all of this, too. On Monday, Ron Dermer, Israel s ambassador to the U.S. and a close friend and ally of Netanyahu, told Politico s Susan Glasser that, in December 2016,  obviously we reached out to [the Trump transition team] in the hope that they would help us,  and  we were hopeful that they would speak  to other governments  in order to prevent this vote from happening. Got that? The Trump transition team   in the form of key Trump advisers Kushner and Flynn   reached out to the Russian government in order to undermine the U.S. government because the Israeli government asked them to. According to these reports, Kushner was using his position in the transition team to act on Israel s behalf   outside of any governmental framework of accountability. If Flynn inadvertently found himself in a Russian trap, it was because Israel and its in-house operative demanded it.If Flynn is guilty of anything, it would be going along with Kushner s Israel First scheme ahead of the United Nations vote. What is odd though, is why the entire US mainstream media is not interested in this part of the story. Even the Never Trump  Resistance  seem to be afraid of taking this narrative on. I guess even the Resistance has its limits. Rather than go for a case where the evidence is sitting right there on a silver salver, instead they will go for the Russian conspiracy theory. Alas, old habits die hard.SEE ALSO: The Genealogy of Trump s U-Turn on PalestineThis series of events is all the more pertinent when considering this week s announcement by President Trump that the US is to recognize Jerusalem as the capital of Israel, and will be moving its embassy from Tel Aviv to East Jerusalem. Many are already calling this  the kiss of death  to the Israel-Palestine peace process. In a predictable succession of events, the Jerusalem provocation was a fait accompli after Trump had announced in October that the US would be withdrawing from support for UNESCO, the UN body which is meant to help maintain the neutrality of Jerusalem as an internationally protected area. The Trump administration justified its resignation from the key UN agency on the grounds that it is  biased against Israel.  But the neutrality of Jerusalem is an essential policy for maintaining peace in a less than ideal situation with Palestine still under a brutal military occupation by an illegitimate and illegal (by international law and successive UN Resolutions) Israeli jackboot.In addition to all this, this past summer the United States announced the establishment of a permanent military installation inside of Israel. What s scary is how many people do not know this has happened.So Trump s  minence grise, the wunderkind, who some people have called the President In-Law, is really Israel s man inside the White House.Landed on his feet:  President In-law  Jared Kushner.So what exactly are Jared Kushner s credentials in international relations and diplomacy that he has been charged with negotiating Middle East affairs for the United States of America? Without sounding too cruel here, it s difficult to find anything to say in his defense. In the end, his only visible qualification is that he s married to the President s daughter, and that s he s  a good friend  of Netanyahu. That s really it.Credit where credit s due though. Aside from marrying into the dynasty, Kushner is also the former owner of a mediocre website, The New York Observer, and has also managed to parlay his family status to help finance a number of high-profile New York City property deals with foreign buyers (no doubt with the help of his father-in-law).Isn t that what Kushner is doing right now   using his inherited clout to help  close friend  Benjamin Netanyahu broker property deals (highly illegal by international law) in the Middle East, only this time with his Uncle Sam acting as the guarantor? It certainly looks that way. The question is, will anyone in the US do anything about it?When this latest episode of hubris by the White House and Israel eventually unravels, the public and the media might then turn on Kushner and Trump, but by then the damage will have already been done.Meanwhile, men like Jake Tapper and Wolf Blitzer will still be chasing those illusive Russian hackers clear into the 2020 election cycle, which is probably a stupid move for the Resistance, but if the last 18 months have taught us anything it s that there isn t much clear thinking going on in that corner of the galaxy.Until then, Netanyahu can feel safe in the knowledge that Israel, not Washington, is currently in control of US foreign policy.One final note to the brave Never-Trump Resistance: if a foreign state actor is blackmailing this President or the White House, it s probably not Russia.*** Author Patrick Henningsen is an American writer and global affairs analyst and founder of independent news and analysis site 21st Century Wire, and is host of the SUNDAY WIRE weekly radio show broadcast globally over the Alternate Current Radio Network (ACR). He has written for a number of international publications and has done extensive on-the-ground reporting of the conflict Syria, Iraq and the Middle East.READ MORE ISRAEL NEWS AT: 21st Century Wire Israel FilesSUPPORT 21WIRE  SUBSCRIBE NOW & BECOME A MEMBER @21WIRE.TV\",\n          \"President Donald Trump, striving to make good on a top campaign promise, is pushing his fellow Republicans who control Congress to pass revamped healthcare legislation but the same intraparty squabbling that torpedoed it last month could do it again. Trump is looking for his first major legislative victory since taking office in January. House of Representatives Republicans are exploring compromises aimed at satisfying the party\\u2019s most conservative members without antagonizing its moderates, but it remained unclear on Friday whether a viable bill would emerge. Trump on Friday played down the need for Congress to act on the legislation before he reaches his 100th day in office next weekend, telling reporters, \\u201cWe\\u2019ll see what happens - no particular rush.\\u201d Trump on Thursday had predicted \\u201ca good chance of getting it soon,\\u201d either \\u201cnext week or shortly thereafter.\\u201d On Friday, he said it \\u201cdoesn\\u2019t matter if it\\u2019s next week.\\u201d Congress, returning from a recess next week, also will be working against the clock to pass legislation to keep the government funded past April 28 and avert a federal shutdown. Healthcare legislation did not appear on the schedule released on Friday by House Republican leaders of bills to be considered next week. \\u201cWe\\u2019re going to get it done when it\\u2019s appropriate in terms of getting to that 216,\\u201d White House spokesman Sean Spicer told reporters, referring to the vote total needed for House passage before the bill goes to the Senate. Trump\\u2019s party cannot afford defections because Democrats remain unified against the Republican quest to repeal and replace the Affordable Care Act, Democratic former President Barack Obama\\u2019s signature domestic policy achievement, dubbed Obamacare. Trump campaigned on a pledge to discard Obamacare. In a stinging setback for Trump, Speaker Paul Ryan pulled the legislation from the House floor on March 24 before allowing it to come to a vote amid a revolt by conservatives in a faction called the House Freedom Caucus and moderates unhappy with concessions to the conservatives. Republicans have called Obamacare a government overreach. The law enabled 20 million Americans to obtain insurance, many through an expansion of the Medicaid program for the poor. A senior House Republican aide said it was not clear whether a revamped Republican plan can attract 216 votes, adding that without a legislative text it was impossible to do a vote count to assess its chances. Moderate Republican Representative Tom MacArthur is pushing a proposal to allow states to waive some Obamacare provisions. MacArthur\\u2019s office said he has discussed it with other Republican lawmakers, the House leadership and the White House. No text has emerged, but an outline of his proposal said states could seek to relax \\u201cessential benefits\\u201d that Obamacare requires insurance plans to cover, such as emergency room trips, maternity and newborn care, and mental health services. States also could request waivers to Obamacare\\u2019s ban on insurers charging sick customers higher premiums than healthy customers. But states would have to establish \\u201chigh-risk pools\\u201d using government funds to help pay for insurance for people with costly medical conditions. Representative Rodney Davis told CNN on Friday he did not know what was in the deal, but added, \\u201cI\\u2019m not going to be for a plan that is going to allow for pre-existing conditions to not be covered.\\u201d MacArthur and Davis are members of the centrist House Republican Tuesday Group. Freedom Caucus member Representative Dave Brat told CNN the new proposal gives states more say healthcare but was the \\u201csame fundamental bill\\u201d that collapsed last month. The Republican plan, as written last month, would end the Medicaid expansion, let states impose work requirements on some Medicaid recipients, rescind a range of Obamacare taxes, get rid of a penalty on people who refuse to obtain insurance, and ditch Obamacare\\u2019s income-based subsidies to help people buy insurance while creating less-generous age-based tax credits. The nonpartisan Congressional Budget Office forecast the earlier version of the plan would increase by 24 million the number of Americans without medical insurance by 2026. During a Thursday conference call with House Democrats, their leader, Nancy Pelosi, urged them to remain united against the Republican legislation, saying it would increase healthcare costs and provide less insurance coverage, an aide who was on the telephone call said.\"\n        ],\n        \"semantic_type\": \"\",\n        \"description\": \"\"\n      }\n    },\n    {\n      \"column\": \"subject\",\n      \"properties\": {\n        \"dtype\": \"category\",\n        \"num_unique_values\": 8,\n        \"samples\": [\n          \"Government News\",\n          \"News\",\n          \"politicsNews\"\n        ],\n        \"semantic_type\": \"\",\n        \"description\": \"\"\n      }\n    },\n    {\n      \"column\": \"date\",\n      \"properties\": {\n        \"dtype\": \"category\",\n        \"num_unique_values\": 2381,\n        \"samples\": [\n          \"Jun 8, 2016\",\n          \"September 25, 2017\",\n          \"May 23, 2017 \"\n        ],\n        \"semantic_type\": \"\",\n        \"description\": \"\"\n      }\n    },\n    {\n      \"column\": \"label\",\n      \"properties\": {\n        \"dtype\": \"number\",\n        \"std\": 0,\n        \"min\": 0,\n        \"max\": 1,\n        \"num_unique_values\": 2,\n        \"samples\": [\n          0,\n          1\n        ],\n        \"semantic_type\": \"\",\n        \"description\": \"\"\n      }\n    }\n  ]\n}"
            }
          },
          "metadata": {},
          "execution_count": 44
        }
      ]
    },
    {
      "cell_type": "code",
      "source": [
        "test_df.head()"
      ],
      "metadata": {
        "colab": {
          "base_uri": "https://localhost:8080/",
          "height": 206
        },
        "id": "kJCSzYuXoSNL",
        "outputId": "fc74ed34-5702-4884-acda-c5692482e955"
      },
      "execution_count": null,
      "outputs": [
        {
          "output_type": "execute_result",
          "data": {
            "text/plain": [
              "   Unnamed: 0                                              title  \\\n",
              "0        8104  Conservatives Will HATE What Donald Trump Just...   \n",
              "1        7467  Trump victory may create new tension between U...   \n",
              "2        9473  WATCH: Hundreds of ILLEGAL ALIENS Storm Senate...   \n",
              "3         276  Democratic Senator Franken to resign: CNN, cit...   \n",
              "4       19274  GANG OF DOMESTIC TERRORISTS Violently Attack L...   \n",
              "\n",
              "                                                text       subject  \\\n",
              "0  Donald Trump isn t exactly a stranger to makin...          News   \n",
              "1  Donald Trump’s U.S. election victory may creat...  politicsNews   \n",
              "2  A couple of quick questions come to mind when ...      politics   \n",
              "3  U.S. Democratic Senator Al Franken will announ...  politicsNews   \n",
              "4  ***WARNING*** Violence is graphic***This Trump...     left-news   \n",
              "\n",
              "                date  label  \n",
              "0  February 14, 2016      0  \n",
              "1  November 9, 2016       1  \n",
              "2        Nov 9, 2017      0  \n",
              "3  December 7, 2017       1  \n",
              "4       Jan 21, 2017      0  "
            ],
            "text/html": [
              "\n",
              "  <div id=\"df-7c72117c-1f35-412c-928f-d5f054f176dd\" class=\"colab-df-container\">\n",
              "    <div>\n",
              "<style scoped>\n",
              "    .dataframe tbody tr th:only-of-type {\n",
              "        vertical-align: middle;\n",
              "    }\n",
              "\n",
              "    .dataframe tbody tr th {\n",
              "        vertical-align: top;\n",
              "    }\n",
              "\n",
              "    .dataframe thead th {\n",
              "        text-align: right;\n",
              "    }\n",
              "</style>\n",
              "<table border=\"1\" class=\"dataframe\">\n",
              "  <thead>\n",
              "    <tr style=\"text-align: right;\">\n",
              "      <th></th>\n",
              "      <th>Unnamed: 0</th>\n",
              "      <th>title</th>\n",
              "      <th>text</th>\n",
              "      <th>subject</th>\n",
              "      <th>date</th>\n",
              "      <th>label</th>\n",
              "    </tr>\n",
              "  </thead>\n",
              "  <tbody>\n",
              "    <tr>\n",
              "      <th>0</th>\n",
              "      <td>8104</td>\n",
              "      <td>Conservatives Will HATE What Donald Trump Just...</td>\n",
              "      <td>Donald Trump isn t exactly a stranger to makin...</td>\n",
              "      <td>News</td>\n",
              "      <td>February 14, 2016</td>\n",
              "      <td>0</td>\n",
              "    </tr>\n",
              "    <tr>\n",
              "      <th>1</th>\n",
              "      <td>7467</td>\n",
              "      <td>Trump victory may create new tension between U...</td>\n",
              "      <td>Donald Trump’s U.S. election victory may creat...</td>\n",
              "      <td>politicsNews</td>\n",
              "      <td>November 9, 2016</td>\n",
              "      <td>1</td>\n",
              "    </tr>\n",
              "    <tr>\n",
              "      <th>2</th>\n",
              "      <td>9473</td>\n",
              "      <td>WATCH: Hundreds of ILLEGAL ALIENS Storm Senate...</td>\n",
              "      <td>A couple of quick questions come to mind when ...</td>\n",
              "      <td>politics</td>\n",
              "      <td>Nov 9, 2017</td>\n",
              "      <td>0</td>\n",
              "    </tr>\n",
              "    <tr>\n",
              "      <th>3</th>\n",
              "      <td>276</td>\n",
              "      <td>Democratic Senator Franken to resign: CNN, cit...</td>\n",
              "      <td>U.S. Democratic Senator Al Franken will announ...</td>\n",
              "      <td>politicsNews</td>\n",
              "      <td>December 7, 2017</td>\n",
              "      <td>1</td>\n",
              "    </tr>\n",
              "    <tr>\n",
              "      <th>4</th>\n",
              "      <td>19274</td>\n",
              "      <td>GANG OF DOMESTIC TERRORISTS Violently Attack L...</td>\n",
              "      <td>***WARNING*** Violence is graphic***This Trump...</td>\n",
              "      <td>left-news</td>\n",
              "      <td>Jan 21, 2017</td>\n",
              "      <td>0</td>\n",
              "    </tr>\n",
              "  </tbody>\n",
              "</table>\n",
              "</div>\n",
              "    <div class=\"colab-df-buttons\">\n",
              "\n",
              "  <div class=\"colab-df-container\">\n",
              "    <button class=\"colab-df-convert\" onclick=\"convertToInteractive('df-7c72117c-1f35-412c-928f-d5f054f176dd')\"\n",
              "            title=\"Convert this dataframe to an interactive table.\"\n",
              "            style=\"display:none;\">\n",
              "\n",
              "  <svg xmlns=\"http://www.w3.org/2000/svg\" height=\"24px\" viewBox=\"0 -960 960 960\">\n",
              "    <path d=\"M120-120v-720h720v720H120Zm60-500h600v-160H180v160Zm220 220h160v-160H400v160Zm0 220h160v-160H400v160ZM180-400h160v-160H180v160Zm440 0h160v-160H620v160ZM180-180h160v-160H180v160Zm440 0h160v-160H620v160Z\"/>\n",
              "  </svg>\n",
              "    </button>\n",
              "\n",
              "  <style>\n",
              "    .colab-df-container {\n",
              "      display:flex;\n",
              "      gap: 12px;\n",
              "    }\n",
              "\n",
              "    .colab-df-convert {\n",
              "      background-color: #E8F0FE;\n",
              "      border: none;\n",
              "      border-radius: 50%;\n",
              "      cursor: pointer;\n",
              "      display: none;\n",
              "      fill: #1967D2;\n",
              "      height: 32px;\n",
              "      padding: 0 0 0 0;\n",
              "      width: 32px;\n",
              "    }\n",
              "\n",
              "    .colab-df-convert:hover {\n",
              "      background-color: #E2EBFA;\n",
              "      box-shadow: 0px 1px 2px rgba(60, 64, 67, 0.3), 0px 1px 3px 1px rgba(60, 64, 67, 0.15);\n",
              "      fill: #174EA6;\n",
              "    }\n",
              "\n",
              "    .colab-df-buttons div {\n",
              "      margin-bottom: 4px;\n",
              "    }\n",
              "\n",
              "    [theme=dark] .colab-df-convert {\n",
              "      background-color: #3B4455;\n",
              "      fill: #D2E3FC;\n",
              "    }\n",
              "\n",
              "    [theme=dark] .colab-df-convert:hover {\n",
              "      background-color: #434B5C;\n",
              "      box-shadow: 0px 1px 3px 1px rgba(0, 0, 0, 0.15);\n",
              "      filter: drop-shadow(0px 1px 2px rgba(0, 0, 0, 0.3));\n",
              "      fill: #FFFFFF;\n",
              "    }\n",
              "  </style>\n",
              "\n",
              "    <script>\n",
              "      const buttonEl =\n",
              "        document.querySelector('#df-7c72117c-1f35-412c-928f-d5f054f176dd button.colab-df-convert');\n",
              "      buttonEl.style.display =\n",
              "        google.colab.kernel.accessAllowed ? 'block' : 'none';\n",
              "\n",
              "      async function convertToInteractive(key) {\n",
              "        const element = document.querySelector('#df-7c72117c-1f35-412c-928f-d5f054f176dd');\n",
              "        const dataTable =\n",
              "          await google.colab.kernel.invokeFunction('convertToInteractive',\n",
              "                                                    [key], {});\n",
              "        if (!dataTable) return;\n",
              "\n",
              "        const docLinkHtml = 'Like what you see? Visit the ' +\n",
              "          '<a target=\"_blank\" href=https://colab.research.google.com/notebooks/data_table.ipynb>data table notebook</a>'\n",
              "          + ' to learn more about interactive tables.';\n",
              "        element.innerHTML = '';\n",
              "        dataTable['output_type'] = 'display_data';\n",
              "        await google.colab.output.renderOutput(dataTable, element);\n",
              "        const docLink = document.createElement('div');\n",
              "        docLink.innerHTML = docLinkHtml;\n",
              "        element.appendChild(docLink);\n",
              "      }\n",
              "    </script>\n",
              "  </div>\n",
              "\n",
              "\n",
              "<div id=\"df-a43a6058-3be3-4e67-8928-3d03961d3270\">\n",
              "  <button class=\"colab-df-quickchart\" onclick=\"quickchart('df-a43a6058-3be3-4e67-8928-3d03961d3270')\"\n",
              "            title=\"Suggest charts\"\n",
              "            style=\"display:none;\">\n",
              "\n",
              "<svg xmlns=\"http://www.w3.org/2000/svg\" height=\"24px\"viewBox=\"0 0 24 24\"\n",
              "     width=\"24px\">\n",
              "    <g>\n",
              "        <path d=\"M19 3H5c-1.1 0-2 .9-2 2v14c0 1.1.9 2 2 2h14c1.1 0 2-.9 2-2V5c0-1.1-.9-2-2-2zM9 17H7v-7h2v7zm4 0h-2V7h2v10zm4 0h-2v-4h2v4z\"/>\n",
              "    </g>\n",
              "</svg>\n",
              "  </button>\n",
              "\n",
              "<style>\n",
              "  .colab-df-quickchart {\n",
              "      --bg-color: #E8F0FE;\n",
              "      --fill-color: #1967D2;\n",
              "      --hover-bg-color: #E2EBFA;\n",
              "      --hover-fill-color: #174EA6;\n",
              "      --disabled-fill-color: #AAA;\n",
              "      --disabled-bg-color: #DDD;\n",
              "  }\n",
              "\n",
              "  [theme=dark] .colab-df-quickchart {\n",
              "      --bg-color: #3B4455;\n",
              "      --fill-color: #D2E3FC;\n",
              "      --hover-bg-color: #434B5C;\n",
              "      --hover-fill-color: #FFFFFF;\n",
              "      --disabled-bg-color: #3B4455;\n",
              "      --disabled-fill-color: #666;\n",
              "  }\n",
              "\n",
              "  .colab-df-quickchart {\n",
              "    background-color: var(--bg-color);\n",
              "    border: none;\n",
              "    border-radius: 50%;\n",
              "    cursor: pointer;\n",
              "    display: none;\n",
              "    fill: var(--fill-color);\n",
              "    height: 32px;\n",
              "    padding: 0;\n",
              "    width: 32px;\n",
              "  }\n",
              "\n",
              "  .colab-df-quickchart:hover {\n",
              "    background-color: var(--hover-bg-color);\n",
              "    box-shadow: 0 1px 2px rgba(60, 64, 67, 0.3), 0 1px 3px 1px rgba(60, 64, 67, 0.15);\n",
              "    fill: var(--button-hover-fill-color);\n",
              "  }\n",
              "\n",
              "  .colab-df-quickchart-complete:disabled,\n",
              "  .colab-df-quickchart-complete:disabled:hover {\n",
              "    background-color: var(--disabled-bg-color);\n",
              "    fill: var(--disabled-fill-color);\n",
              "    box-shadow: none;\n",
              "  }\n",
              "\n",
              "  .colab-df-spinner {\n",
              "    border: 2px solid var(--fill-color);\n",
              "    border-color: transparent;\n",
              "    border-bottom-color: var(--fill-color);\n",
              "    animation:\n",
              "      spin 1s steps(1) infinite;\n",
              "  }\n",
              "\n",
              "  @keyframes spin {\n",
              "    0% {\n",
              "      border-color: transparent;\n",
              "      border-bottom-color: var(--fill-color);\n",
              "      border-left-color: var(--fill-color);\n",
              "    }\n",
              "    20% {\n",
              "      border-color: transparent;\n",
              "      border-left-color: var(--fill-color);\n",
              "      border-top-color: var(--fill-color);\n",
              "    }\n",
              "    30% {\n",
              "      border-color: transparent;\n",
              "      border-left-color: var(--fill-color);\n",
              "      border-top-color: var(--fill-color);\n",
              "      border-right-color: var(--fill-color);\n",
              "    }\n",
              "    40% {\n",
              "      border-color: transparent;\n",
              "      border-right-color: var(--fill-color);\n",
              "      border-top-color: var(--fill-color);\n",
              "    }\n",
              "    60% {\n",
              "      border-color: transparent;\n",
              "      border-right-color: var(--fill-color);\n",
              "    }\n",
              "    80% {\n",
              "      border-color: transparent;\n",
              "      border-right-color: var(--fill-color);\n",
              "      border-bottom-color: var(--fill-color);\n",
              "    }\n",
              "    90% {\n",
              "      border-color: transparent;\n",
              "      border-bottom-color: var(--fill-color);\n",
              "    }\n",
              "  }\n",
              "</style>\n",
              "\n",
              "  <script>\n",
              "    async function quickchart(key) {\n",
              "      const quickchartButtonEl =\n",
              "        document.querySelector('#' + key + ' button');\n",
              "      quickchartButtonEl.disabled = true;  // To prevent multiple clicks.\n",
              "      quickchartButtonEl.classList.add('colab-df-spinner');\n",
              "      try {\n",
              "        const charts = await google.colab.kernel.invokeFunction(\n",
              "            'suggestCharts', [key], {});\n",
              "      } catch (error) {\n",
              "        console.error('Error during call to suggestCharts:', error);\n",
              "      }\n",
              "      quickchartButtonEl.classList.remove('colab-df-spinner');\n",
              "      quickchartButtonEl.classList.add('colab-df-quickchart-complete');\n",
              "    }\n",
              "    (() => {\n",
              "      let quickchartButtonEl =\n",
              "        document.querySelector('#df-a43a6058-3be3-4e67-8928-3d03961d3270 button');\n",
              "      quickchartButtonEl.style.display =\n",
              "        google.colab.kernel.accessAllowed ? 'block' : 'none';\n",
              "    })();\n",
              "  </script>\n",
              "</div>\n",
              "\n",
              "    </div>\n",
              "  </div>\n"
            ],
            "application/vnd.google.colaboratory.intrinsic+json": {
              "type": "dataframe",
              "variable_name": "test_df",
              "summary": "{\n  \"name\": \"test_df\",\n  \"rows\": 8267,\n  \"fields\": [\n    {\n      \"column\": \"Unnamed: 0\",\n      \"properties\": {\n        \"dtype\": \"number\",\n        \"std\": 6549,\n        \"min\": 1,\n        \"max\": 23480,\n        \"num_unique_values\": 7497,\n        \"samples\": [\n          9853,\n          7041,\n          16410\n        ],\n        \"semantic_type\": \"\",\n        \"description\": \"\"\n      }\n    },\n    {\n      \"column\": \"title\",\n      \"properties\": {\n        \"dtype\": \"string\",\n        \"num_unique_values\": 8076,\n        \"samples\": [\n          \"BILL CLINTON RECENTLY CAUGHT Making Racist Remarks: Obama\\u2019s Presidency Will Cause White Working Men To Die Sooner\",\n          \"Factbox: Republicans to keep an eye on as Senate nears vote on tax bill\",\n          \"Arizona Governor Blocks 31,000 Low-Income Children From Access To Life Saving Healthcare\"\n        ],\n        \"semantic_type\": \"\",\n        \"description\": \"\"\n      }\n    },\n    {\n      \"column\": \"text\",\n      \"properties\": {\n        \"dtype\": \"string\",\n        \"num_unique_values\": 8083,\n        \"samples\": [\n          \"The European Commission s decision to launch the so-called Article 7 procedure against Poland may be related to Warsaw s refusal to accept Muslim migrants, spokeswoman of the ruling Law and Justice (PiS) party Beata Mazurek said on Wednesday.  This may be an effect not only of the opposition s informing (on Poland to the EC) but also because we don t want to accept immigrants, we don t want to accept Muslim migrants, as we care for the security of Poles,  Mazurek told reporters.\",\n          \"The news gets worse every day for the Clinton Crime Syndicate Breitbart News Exclusive: Hillary Clinton s private email server was housed at the same physical location and on the same network as an email server used and operated by the Clinton Foundation, Breitbart News has exclusively learned.Records reveal that Hillary Clinton s private clintonemail.com server shared an IP address with her husband Bill Clinton s email server, presidentclinton.com, and both servers were housed in New York City, not in the basement of the Clintons  Chappaqua, New York home.Web archives show that the Presidentclinton.com Web address was being operated by the Clinton Foundation as of 2009, when Hillary Clinton registered her own clintonemail.com server.Numerous Clinton Foundation employees used the presidentclinton.com server for their own email addresses, which means that they were using email accounts that, if hacked, would have given any hacker complete access to Hillary Clinton s State Department emails, as well.The bombshell revelation raises new concerns about the possible illegality of Hillary Clinton s private email use. The former Secretary of State is under federal investigation for potentially violating the Espionage Act by allowing people without a security clearance to access classified information. The fact that Hillary was sharing an email network with a private foundation means that people without a security clearance almost certainly had physical access to her server while she was working at the State Department.Here s what we know:The Servers Have The SAME IP AddressHillary s clintonemail.com server and the Foundation-run presidentclinton.com email server have exactly the same IP address, and the same SSL certificate (which an organization purchases for an email server to verify its trustworthiness).mail.clintonemail.com and mail.presidentclinton.com both have an IP address of 64.94.172.146, according to an SSL Certificate Checker.The two servers both have that same IP address, 64.94.172.146, according to DNS records. (Here are records for Hillary s server, and here are records for Bill s server).Both servers have the same IP address, according to another independent Internet records database, robtex.net.The fact that both of these email servers have the same IP address means that they were operating on the same network, and sharing physical space. A computer expert tells Breitbart News that the servers were probably operating on the same machine. It is also possible that they were operating on different machines on the same network, which still means that the machines would have to be close enough to exist in the same physical location.President Clinton s server was created in 2002, while Hillary s was created in 2009, which means that Hillary s server was simply added to Bill s Foundation-run server network.They Had The SAME IP Address When She Was Secretary of StateHillary s server and Bill s Foundation-run server also shared a different IP address during her tenure as Secretary of State.From September 8, 2009 until June 24, 2011, Bill Clinton s Foundation-run mail.presidentclinton.com server had an IP address of 24.187.234.187, according to DNS records.Hillary s mail.clintonemail.com server had the same exact IP address, 24.187.234.187, from the dates May 21, 2010 until October 21, 2010, according to DNS records.Their Shared IP Address Can Be Traced to Midtown ManhattanA geographical search for the IP address that both servers shared at registration traces to Midtown Manhattan, according to three different databases: infosniper.net, which locates a Midtown latitude/longitude point, ip-tracker.org, which also gives a Midtown latitude/longitude point, and whatsmyip.org.Clinton Foundation headquarters are currently located at 1271 6th Avenue in Midtown. Bill Clinton s office is at 55 West 125th StreetThe Denver-based firm Platte River Networks told Breitbart News that it physically moved Hillary Clinton s private email server out of the basement of her Chappaqua home in 2013. But the Clintons could have moved the server from Manhattan to Chappaqua before Platte River got there.Clinton Founation Employees Had presidentclinton.com email addressesThe employees who have used presidentclinton.com email addresses included former Bill Clinton right-hand man Doug Band, as well as Justin Cooper, a Hillary aide who has worked with the Foundation, Terry Krinvic, Laura Graham, and John Zimmerebner.Was Chelsea Clinton On The Server?The email server for mail.chelseaoffice.com, which is no longer active, resolves to clintonemail.com, according to DNS records. Wikileaks confirms that the chelseaoffice.com server was used by Chelsea Clinton employees.Hillary Even Admitted That She Used Her Husband s  System Well the system we used was set up for President Clintons office and it had numerous safeguards it was on property guarded by the Secret Service and there were no security breaches, so I think that the use of that server which started with my husband proved to be effective and secure,  Hillary Clinton said in a March 2015 press conference.Clinton has not returned to that talking point since.The Clinton Foundation and Hillary Clinton s campaign did not return requests for comment by press time. Via: Breitbart News\",\n          \"Illinois Governor Bruce Rauner said on Monday he was holding off  issuance of up to $6 billion of bonds to help pay down the state\\u2019s more than $14 billion in overdue bills despite the state comptroller\\u2019s public plea for the debt sale.  The Republican governor called on Illinois Comptroller Susana Mendoza to tap more than $600 million in various state accounts first to pay bills. Authorization for the general obligation bonds and for using money parked in the accounts was included in the fiscal 2018 budget the Democratic-controlled legislature enacted in July over the governor\\u2019s vetoes. [nL1N1JX20R] Rauner also said the state cannot go to market with the debt until he works with state lawmakers to identify an appropriation or plan to pay off the new bonds.  \\u201cThis bonding in and of itself is not the answer,\\u201d Rauner told reporters. In a video and statement on Monday, Mendoza said Illinois\\u2019 bill backlog is costing residents $2 million a day in late payment penalties that can reach as much as 12 percent a year. The bond authorization, which expires on Dec. 31, was aimed at having Rauner\\u2019s budget office sell the 12-year bonds at a lower interest rate.  The debt is covered under the Illinois GO Bond Act, which constitutes an irrevocable and continuing appropriation for principal and interest payments on all of the state\\u2019s outstanding bonds, according to budget legislation. Illinois\\u2019 unprecedented two-year budget impasse ballooned the unpaid bill total to a record $15.4 billion in June. As of Friday, the backlog stood at $14.35 billion.  Abdon Pallasch, a spokesman for the Democratic comptroller, said inter-fund transfers were already underway. \\u201cWhat we need right now is movement by the governor\\u2019s office and a solid timetable for refinancing the debt so that our office can establish a comprehensive cash management plan for the remainder of fiscal year 2018,\\u201d he said. On Monday, Illinois bonds due in 12 years were yielding  4.13 percent, according to Municipal Market Data, a unit of Thomson Reuters. Illinois has the lowest credit ratings and pays the highest borrowing costs among the 50 U.S. states. Since enacting its first budget in two years along with a $5 billion income tax hike, and subsequently evading junk bond ratings, the state\\u2019s so-called credit spread over MMD\\u2019s benchmark triple-A yield scale has narrowed. Mendoza\\u2019s office said the new borrowing will provide some relief to service providers and businesses that have been waiting months for payment.  \\u201cOver the past two years without a budget, they have had to exhaust their lines of credit, lay off employees and, in some cases, turn away Illinois citizens in need of services,\\u201d a  statement from the comptroller said.\"\n        ],\n        \"semantic_type\": \"\",\n        \"description\": \"\"\n      }\n    },\n    {\n      \"column\": \"subject\",\n      \"properties\": {\n        \"dtype\": \"category\",\n        \"num_unique_values\": 8,\n        \"samples\": [\n          \"politicsNews\",\n          \"Government News\",\n          \"News\"\n        ],\n        \"semantic_type\": \"\",\n        \"description\": \"\"\n      }\n    },\n    {\n      \"column\": \"date\",\n      \"properties\": {\n        \"dtype\": \"category\",\n        \"num_unique_values\": 2097,\n        \"samples\": [\n          \"Aug 14, 2017\",\n          \"Jan 16, 2017\",\n          \"Sep 27, 2017\"\n        ],\n        \"semantic_type\": \"\",\n        \"description\": \"\"\n      }\n    },\n    {\n      \"column\": \"label\",\n      \"properties\": {\n        \"dtype\": \"number\",\n        \"std\": 0,\n        \"min\": 0,\n        \"max\": 1,\n        \"num_unique_values\": 2,\n        \"samples\": [\n          1,\n          0\n        ],\n        \"semantic_type\": \"\",\n        \"description\": \"\"\n      }\n    }\n  ]\n}"
            }
          },
          "metadata": {},
          "execution_count": 46
        }
      ]
    },
    {
      "cell_type": "code",
      "source": [
        "train_df.columns"
      ],
      "metadata": {
        "colab": {
          "base_uri": "https://localhost:8080/"
        },
        "id": "vmNLBzpMEiXl",
        "outputId": "242f00a6-2131-437e-e2c5-ca02a0981307"
      },
      "execution_count": null,
      "outputs": [
        {
          "output_type": "execute_result",
          "data": {
            "text/plain": [
              "Index(['Unnamed: 0', 'title', 'text', 'subject', 'date', 'label'], dtype='object')"
            ]
          },
          "metadata": {},
          "execution_count": 47
        }
      ]
    },
    {
      "cell_type": "markdown",
      "source": [
        "#Feature Engineering\n",
        "\n",
        "['Unnamed: 0', 'title', 'subject', 'date'] these columns are not required for detecting the fake news and thus dropped from the dataset."
      ],
      "metadata": {
        "id": "MoZUE5L_o_Fh"
      }
    },
    {
      "cell_type": "code",
      "source": [
        "train_df=train_df.drop(columns=['Unnamed: 0','title','subject','date'])"
      ],
      "metadata": {
        "id": "wlsrR5XYGK3w"
      },
      "execution_count": null,
      "outputs": []
    },
    {
      "cell_type": "markdown",
      "source": [
        "Checking the missing values"
      ],
      "metadata": {
        "id": "CHPFLkj8ph5N"
      }
    },
    {
      "cell_type": "code",
      "source": [
        "train_df.isnull().sum()"
      ],
      "metadata": {
        "colab": {
          "base_uri": "https://localhost:8080/",
          "height": 147
        },
        "id": "pESanBHvGTht",
        "outputId": "c6657a88-7c2b-4a3e-d252-018c8966eb8f"
      },
      "execution_count": null,
      "outputs": [
        {
          "output_type": "execute_result",
          "data": {
            "text/plain": [
              "text     0\n",
              "label    0\n",
              "dtype: int64"
            ],
            "text/html": [
              "<div>\n",
              "<style scoped>\n",
              "    .dataframe tbody tr th:only-of-type {\n",
              "        vertical-align: middle;\n",
              "    }\n",
              "\n",
              "    .dataframe tbody tr th {\n",
              "        vertical-align: top;\n",
              "    }\n",
              "\n",
              "    .dataframe thead th {\n",
              "        text-align: right;\n",
              "    }\n",
              "</style>\n",
              "<table border=\"1\" class=\"dataframe\">\n",
              "  <thead>\n",
              "    <tr style=\"text-align: right;\">\n",
              "      <th></th>\n",
              "      <th>0</th>\n",
              "    </tr>\n",
              "  </thead>\n",
              "  <tbody>\n",
              "    <tr>\n",
              "      <th>text</th>\n",
              "      <td>0</td>\n",
              "    </tr>\n",
              "    <tr>\n",
              "      <th>label</th>\n",
              "      <td>0</td>\n",
              "    </tr>\n",
              "  </tbody>\n",
              "</table>\n",
              "</div><br><label><b>dtype:</b> int64</label>"
            ]
          },
          "metadata": {},
          "execution_count": 49
        }
      ]
    },
    {
      "cell_type": "markdown",
      "source": [
        "#Text Preprocessing"
      ],
      "metadata": {
        "id": "pCwQUINuppvT"
      }
    },
    {
      "cell_type": "markdown",
      "source": [
        "The preprocess function cleans a text by converting it to lowercase, removing text in square brackets, non-word characters, URLs, HTML tags, punctuation, and words containing numbers."
      ],
      "metadata": {
        "id": "c5u3M0Ygpvdy"
      }
    },
    {
      "cell_type": "code",
      "source": [
        "def preprocess(text):\n",
        "    text = text.lower()#convert to lowercase\n",
        "    text = re.sub('\\[.*?\\]','',text)#Remove Text in Square Brackets\n",
        "    text = re.sub(\"\\\\W\",\" \",text)#Remove Non-Word Characters\n",
        "    text = re.sub('https?://\\S+|www\\.\\S+','',text)#Remove URLs\n",
        "    text = re.sub('<.*?>+',b'',text)#Remove HTML tags\n",
        "    text = re.sub('[%s]' % re.escape(string.punctuation),'',text)#Remove Punctuation\n",
        "    text = re.sub('\\w*\\d\\w*','',text)#Remove Words Containing Numbers\n",
        "    return text"
      ],
      "metadata": {
        "id": "fxH3myZoGnSG"
      },
      "execution_count": null,
      "outputs": []
    },
    {
      "cell_type": "code",
      "source": [
        "train_df['text'] = train_df['text'].apply(preprocess)\n",
        "test_df['text'] = test_df['text'].apply(preprocess)"
      ],
      "metadata": {
        "id": "p5fI_VJeH3Ev"
      },
      "execution_count": null,
      "outputs": []
    },
    {
      "cell_type": "markdown",
      "source": [
        "Defining dependent and independent variable as x and y"
      ],
      "metadata": {
        "id": "Sasup-IjuJD1"
      }
    },
    {
      "cell_type": "code",
      "source": [
        "#for training data\n",
        "x=train_df['text']\n",
        "y=train_df['label']\n",
        "#for testing data\n",
        "X=test_df['text']\n",
        "Y=test_df['label']\n"
      ],
      "metadata": {
        "id": "UIxqQwUtIAGY"
      },
      "execution_count": null,
      "outputs": []
    },
    {
      "cell_type": "markdown",
      "source": [
        "#Training the model"
      ],
      "metadata": {
        "id": "3WG_h8flvDpM"
      }
    },
    {
      "cell_type": "markdown",
      "source": [
        "Splitting the dataset into training set and validation set."
      ],
      "metadata": {
        "id": "B9kTCH_IvFd0"
      }
    },
    {
      "cell_type": "code",
      "source": [
        "x_train, x_val, y_train, y_val = train_test_split(x,y,test_size = 0.25,random_state=42)\n"
      ],
      "metadata": {
        "id": "FOKLKK0CIKds"
      },
      "execution_count": null,
      "outputs": []
    },
    {
      "cell_type": "code",
      "source": [
        "x_train.shape"
      ],
      "metadata": {
        "colab": {
          "base_uri": "https://localhost:8080/"
        },
        "id": "tWRVnsTkI5_n",
        "outputId": "13722b64-d785-49b5-a3ed-df23faac0c3d"
      },
      "execution_count": null,
      "outputs": [
        {
          "output_type": "execute_result",
          "data": {
            "text/plain": [
              "(22500,)"
            ]
          },
          "metadata": {},
          "execution_count": 54
        }
      ]
    },
    {
      "cell_type": "code",
      "source": [
        "x_val.shape"
      ],
      "metadata": {
        "colab": {
          "base_uri": "https://localhost:8080/"
        },
        "id": "TDlk8lZyI98c",
        "outputId": "8920a74d-61f2-4c7d-8942-cfea93e8d413"
      },
      "execution_count": null,
      "outputs": [
        {
          "output_type": "execute_result",
          "data": {
            "text/plain": [
              "(7500,)"
            ]
          },
          "metadata": {},
          "execution_count": 56
        }
      ]
    },
    {
      "cell_type": "markdown",
      "source": [
        "#Extracting Features from the Text\n",
        "Convert text to vectors using Text frequency- Inverse Document frequency method(Tfidf)"
      ],
      "metadata": {
        "id": "EkF8--1JvNvv"
      }
    },
    {
      "cell_type": "code",
      "source": [
        "from sklearn.feature_extraction.text import TfidfVectorizer\n",
        "vc = TfidfVectorizer()\n",
        "xv_train = vc.fit_transform(x_train)\n",
        "xv_val = vc.transform(x_val)\n",
        "xv_test = vc.transform(X)"
      ],
      "metadata": {
        "id": "oq2Q48zGIPvi"
      },
      "execution_count": null,
      "outputs": []
    },
    {
      "cell_type": "markdown",
      "source": [
        "#Logistic Regression"
      ],
      "metadata": {
        "id": "fOm2HoeHvvY_"
      }
    },
    {
      "cell_type": "markdown",
      "source": [
        "Validation Accuracy and Report:"
      ],
      "metadata": {
        "id": "A0ZHPI-4v8aI"
      }
    },
    {
      "cell_type": "code",
      "source": [
        "from sklearn.linear_model import LogisticRegression\n",
        "from sklearn.metrics import classification_report\n",
        "\n",
        "# Initialize the model\n",
        "lr = LogisticRegression()\n",
        "\n",
        "# Fit the model on the training data\n",
        "lr.fit(xv_train, y_train)\n",
        "\n",
        "# Predict on the validation set\n",
        "lr_pred = lr.predict(xv_val)\n",
        "\n",
        "# Calculate and print validation accuracy\n",
        "print(f\"Validation Accuracy: {lr.score(xv_val, y_val):.2f}\")\n",
        "\n",
        "# Print the classification report for the validation set\n",
        "print(classification_report(y_val, lr_pred))\n"
      ],
      "metadata": {
        "id": "PZweoPsLIn-m",
        "colab": {
          "base_uri": "https://localhost:8080/"
        },
        "outputId": "ba7fa042-8ef8-4870-e377-77ae268688a5"
      },
      "execution_count": null,
      "outputs": [
        {
          "output_type": "stream",
          "name": "stdout",
          "text": [
            "Validation Accuracy: 0.98\n",
            "              precision    recall  f1-score   support\n",
            "\n",
            "           0       0.98      0.98      0.98      3930\n",
            "           1       0.97      0.98      0.98      3570\n",
            "\n",
            "    accuracy                           0.98      7500\n",
            "   macro avg       0.98      0.98      0.98      7500\n",
            "weighted avg       0.98      0.98      0.98      7500\n",
            "\n"
          ]
        }
      ]
    },
    {
      "cell_type": "markdown",
      "source": [
        "Testing Accuracy and Report:"
      ],
      "metadata": {
        "id": "xDIct0jgy5Nw"
      }
    },
    {
      "cell_type": "code",
      "source": [
        "# Predict on the testing set\n",
        "lr_pred_test = lr.predict(xv_test)\n",
        "\n",
        "# Calculate and print testing accuracy\n",
        "print(f\"testing Accuracy: {lr.score(xv_test, Y):.2f}\")\n",
        "\n",
        "# Print the classification report for the testing set\n",
        "print(classification_report(Y, lr_pred_test))"
      ],
      "metadata": {
        "colab": {
          "base_uri": "https://localhost:8080/"
        },
        "id": "SImNK8gtyBYL",
        "outputId": "79118b01-6f3b-48e5-9ab6-a6554f4c6337"
      },
      "execution_count": null,
      "outputs": [
        {
          "output_type": "stream",
          "name": "stdout",
          "text": [
            "testing Accuracy: 0.98\n",
            "              precision    recall  f1-score   support\n",
            "\n",
            "           0       0.98      0.98      0.98      4284\n",
            "           1       0.97      0.98      0.98      3983\n",
            "\n",
            "    accuracy                           0.98      8267\n",
            "   macro avg       0.98      0.98      0.98      8267\n",
            "weighted avg       0.98      0.98      0.98      8267\n",
            "\n"
          ]
        }
      ]
    },
    {
      "cell_type": "markdown",
      "source": [
        "Training Accuracy & report:"
      ],
      "metadata": {
        "id": "XeXJlSerzQ4R"
      }
    },
    {
      "cell_type": "code",
      "source": [
        "training_accuracy = lr.score(xv_train, y_train)\n",
        "print(f\"Training Accuracy: {training_accuracy:.2f}\")\n"
      ],
      "metadata": {
        "colab": {
          "base_uri": "https://localhost:8080/"
        },
        "id": "xEl1_p48zPR6",
        "outputId": "713ea2ec-14b6-4602-f019-3e084e863a1c"
      },
      "execution_count": null,
      "outputs": [
        {
          "output_type": "stream",
          "name": "stdout",
          "text": [
            "Training Accuracy: 0.99\n"
          ]
        }
      ]
    },
    {
      "cell_type": "markdown",
      "source": [
        "Since the validation and testing accuracies are very similar and both are high, there is no indication of overfitting in this case."
      ],
      "metadata": {
        "id": "tl0tvf2z0t-U"
      }
    },
    {
      "cell_type": "code",
      "source": [
        "import matplotlib.pyplot as plt\n",
        "import numpy as np\n",
        "from sklearn.model_selection import learning_curve\n",
        "\n",
        "# Function to plot learning curves\n",
        "def plot_learning_curves(model, X_train, y_train, X_test, y_test):\n",
        "    train_sizes, train_scores, validation_scores = learning_curve(\n",
        "        estimator=model,\n",
        "        X=X_train,\n",
        "        y=y_train,\n",
        "        cv=5,  # 5-fold cross-validation\n",
        "        scoring='accuracy',\n",
        "        train_sizes=np.linspace(0.1, 1.0, 10),  # Sizes from 10% to 100% of the training data\n",
        "        n_jobs=-1\n",
        "    )\n",
        "\n",
        "    # Calculate mean and standard deviation of training and validation scores\n",
        "    train_mean = np.mean(train_scores, axis=1)\n",
        "    train_std = np.std(train_scores, axis=1)\n",
        "    val_mean = np.mean(validation_scores, axis=1)\n",
        "    val_std = np.std(validation_scores, axis=1)\n",
        "\n",
        "    # Test score\n",
        "    test_accuracy = model.score(X_test, y_test)\n",
        "\n",
        "    # Plot learning curves\n",
        "    plt.figure(figsize=(10, 6))\n",
        "    plt.plot(train_sizes, train_mean, label='Training Accuracy', color='blue', marker='o')\n",
        "    plt.fill_between(train_sizes, train_mean - train_std, train_mean + train_std, color='blue', alpha=0.2)\n",
        "    plt.plot(train_sizes, val_mean, label='Validation Accuracy', color='orange', marker='s')\n",
        "    plt.fill_between(train_sizes, val_mean - val_std, val_mean + val_std, color='orange', alpha=0.2)\n",
        "    plt.axhline(y=test_accuracy, color='green', linestyle='--', label=f'Testing Accuracy: {test_accuracy:.2f}')\n",
        "\n",
        "    # Plot labels and title\n",
        "    plt.title('Learning Curves')\n",
        "    plt.xlabel('Training Set Size')\n",
        "    plt.ylabel('Accuracy')\n",
        "    plt.legend(loc='best')\n",
        "    plt.grid()\n",
        "    plt.show()\n",
        "\n",
        "# Example usage with the LogisticRegression model\n",
        "plot_learning_curves(lr, xv_train, y_train, xv_test, Y)\n"
      ],
      "metadata": {
        "colab": {
          "base_uri": "https://localhost:8080/",
          "height": 564
        },
        "id": "sR22N0gEz2Ir",
        "outputId": "bdbe284f-d4ed-426f-e0d1-77c991b75bd0"
      },
      "execution_count": null,
      "outputs": [
        {
          "output_type": "display_data",
          "data": {
            "text/plain": [
              "<Figure size 1000x600 with 1 Axes>"
            ],
            "image/png": "[encoded data removed]"
          },
          "metadata": {}
        }
      ]
    },
    {
      "cell_type": "markdown",
      "source": [
        "#Decision Tree Classifier"
      ],
      "metadata": {
        "id": "dKq3TaKvJP2c"
      }
    },
    {
      "cell_type": "markdown",
      "source": [
        "Testing and Validation Accuracy & report:"
      ],
      "metadata": {
        "id": "QircIMU34fau"
      }
    },
    {
      "cell_type": "code",
      "source": [
        "from sklearn.tree import DecisionTreeClassifier\n",
        "\n",
        "dt = DecisionTreeClassifier()\n",
        "dt.fit(xv_train, y_train)\n",
        "dt_pred = dt.predict(xv_val)\n",
        "print(f\"Validation Accuracy: {dt.score(xv_val, y_val):.2f}\")\n",
        "print(classification_report(y_val,dt_pred))\n",
        "\n",
        "# Predict on the testing set\n",
        "dt_pred_test = dt.predict(xv_test)\n",
        "\n",
        "# Calculate and print testing accuracy\n",
        "print(f\"testing Accuracy: {dt.score(xv_test, Y):.2f}\")\n",
        "\n",
        "# Print the classification report for the testing set\n",
        "print(classification_report(Y, dt_pred_test))"
      ],
      "metadata": {
        "colab": {
          "base_uri": "https://localhost:8080/"
        },
        "id": "tXrjPBRGJM5s",
        "outputId": "98a9a90c-d330-4a7a-b37d-2f1f3d673941"
      },
      "execution_count": null,
      "outputs": [
        {
          "output_type": "stream",
          "name": "stdout",
          "text": [
            "Validation Accuracy: 0.94\n",
            "              precision    recall  f1-score   support\n",
            "\n",
            "           0       0.94      0.95      0.94      3930\n",
            "           1       0.94      0.93      0.94      3570\n",
            "\n",
            "    accuracy                           0.94      7500\n",
            "   macro avg       0.94      0.94      0.94      7500\n",
            "weighted avg       0.94      0.94      0.94      7500\n",
            "\n",
            "testing Accuracy: 0.94\n",
            "              precision    recall  f1-score   support\n",
            "\n",
            "           0       0.94      0.95      0.94      4284\n",
            "           1       0.95      0.93      0.94      3983\n",
            "\n",
            "    accuracy                           0.94      8267\n",
            "   macro avg       0.94      0.94      0.94      8267\n",
            "weighted avg       0.94      0.94      0.94      8267\n",
            "\n"
          ]
        }
      ]
    },
    {
      "cell_type": "markdown",
      "source": [
        "#Gradient Boost Classifier"
      ],
      "metadata": {
        "id": "2PPqeONCJulL"
      }
    },
    {
      "cell_type": "markdown",
      "source": [
        "Testing and Validation Accuracy & report:"
      ],
      "metadata": {
        "id": "NkCwU2AT4Yyj"
      }
    },
    {
      "cell_type": "code",
      "source": [
        "from sklearn.ensemble import GradientBoostingClassifier\n",
        "\n",
        "gb = GradientBoostingClassifier(random_state = 42)\n",
        "gb.fit(xv_train, y_train)\n",
        "gb_pred = gb.predict(xv_val)\n",
        "print(f\"Validation Accuracy: {gb.score(xv_val, y_val):.2f}\")\n",
        "print(classification_report(y_val,gb_pred))\n",
        "\n",
        "# Predict on the testing set\n",
        "gb_pred_test = gb.predict(xv_test)\n",
        "\n",
        "# Calculate and print testing accuracy\n",
        "print(f\"testing Accuracy: {gb.score(xv_test, Y):.2f}\")\n",
        "\n",
        "# Print the classification report for the testing set\n",
        "print(classification_report(Y, gb_pred_test))"
      ],
      "metadata": {
        "colab": {
          "base_uri": "https://localhost:8080/"
        },
        "id": "KZTG_2L2JrH1",
        "outputId": "cd2dcb5a-21d2-49db-961d-7ea4e15a3621"
      },
      "execution_count": null,
      "outputs": [
        {
          "output_type": "stream",
          "name": "stdout",
          "text": [
            "Validation Accuracy: 0.97\n",
            "              precision    recall  f1-score   support\n",
            "\n",
            "           0       0.98      0.96      0.97      3930\n",
            "           1       0.96      0.97      0.97      3570\n",
            "\n",
            "    accuracy                           0.97      7500\n",
            "   macro avg       0.97      0.97      0.97      7500\n",
            "weighted avg       0.97      0.97      0.97      7500\n",
            "\n",
            "testing Accuracy: 0.97\n",
            "              precision    recall  f1-score   support\n",
            "\n",
            "           0       0.98      0.96      0.97      4284\n",
            "           1       0.96      0.98      0.97      3983\n",
            "\n",
            "    accuracy                           0.97      8267\n",
            "   macro avg       0.97      0.97      0.97      8267\n",
            "weighted avg       0.97      0.97      0.97      8267\n",
            "\n"
          ]
        }
      ]
    },
    {
      "cell_type": "markdown",
      "source": [
        "#Random Forest Classifier"
      ],
      "metadata": {
        "id": "gWB8B78bKk31"
      }
    },
    {
      "cell_type": "markdown",
      "source": [
        "Testing and Validation Accuracy & report:"
      ],
      "metadata": {
        "id": "V2oaj1Sv4glA"
      }
    },
    {
      "cell_type": "code",
      "source": [
        "\n",
        "from sklearn.ensemble import RandomForestClassifier\n",
        "\n",
        "rf = RandomForestClassifier(random_state = 42)\n",
        "rf.fit(xv_train, y_train)\n",
        "rf_pred = rf.predict(xv_val)\n",
        "print(f\"Validation Accuracy: {rf.score(xv_val, y_val):.2f}\")\n",
        "print(classification_report(y_val,rf_pred))\n",
        "\n",
        "# Predict on the testing set\n",
        "rf_pred_test = rf.predict(xv_test)\n",
        "\n",
        "# Calculate and print testing accuracy\n",
        "print(f\"testing Accuracy: {rf.score(xv_test, Y):.2f}\")\n",
        "\n",
        "# Print the classification report for the testing set\n",
        "print(classification_report(Y, rf_pred_test))\n"
      ],
      "metadata": {
        "colab": {
          "base_uri": "https://localhost:8080/"
        },
        "id": "rBiAGLbEKqiL",
        "outputId": "079569c7-009e-40ff-9d49-c7c038c335bf"
      },
      "execution_count": null,
      "outputs": [
        {
          "output_type": "stream",
          "name": "stdout",
          "text": [
            "Validation Accuracy: 0.97\n",
            "              precision    recall  f1-score   support\n",
            "\n",
            "           0       0.97      0.97      0.97      3930\n",
            "           1       0.97      0.97      0.97      3570\n",
            "\n",
            "    accuracy                           0.97      7500\n",
            "   macro avg       0.97      0.97      0.97      7500\n",
            "weighted avg       0.97      0.97      0.97      7500\n",
            "\n",
            "testing Accuracy: 0.97\n",
            "              precision    recall  f1-score   support\n",
            "\n",
            "           0       0.97      0.98      0.97      4284\n",
            "           1       0.97      0.97      0.97      3983\n",
            "\n",
            "    accuracy                           0.97      8267\n",
            "   macro avg       0.97      0.97      0.97      8267\n",
            "weighted avg       0.97      0.97      0.97      8267\n",
            "\n"
          ]
        }
      ]
    },
    {
      "cell_type": "markdown",
      "source": [
        "#XGBClassifier"
      ],
      "metadata": {
        "id": "St0ufIh84lUp"
      }
    },
    {
      "cell_type": "markdown",
      "source": [
        "Testing and Validation Accuracy & report:"
      ],
      "metadata": {
        "id": "dSbDm5_D4nek"
      }
    },
    {
      "cell_type": "code",
      "source": [
        "from xgboost import XGBClassifier\n",
        "xgb=XGBClassifier()\n",
        "xgb.fit(xv_train,y_train)\n",
        "xgb_pred = xgb.predict(xv_val)\n",
        "print(f\"Validation Accuracy: {xgb.score(xv_val, y_val):.2f}\")\n",
        "print(classification_report(y_val,xgb_pred))\n",
        "\n",
        "# Predict on the testing set\n",
        "xgb_pred_test = xgb.predict(xv_test)\n",
        "\n",
        "# Calculate and print testing accuracy\n",
        "print(f\"testing Accuracy: {xgb.score(xv_test, Y):.2f}\")\n",
        "\n",
        "# Print the classification report for the testing set\n",
        "print(classification_report(Y, xgb_pred_test))"
      ],
      "metadata": {
        "colab": {
          "base_uri": "https://localhost:8080/"
        },
        "id": "9m4bjP4HKrtY",
        "outputId": "bc2b0260-d32a-4164-c810-a55dc780abcf"
      },
      "execution_count": null,
      "outputs": [
        {
          "output_type": "stream",
          "name": "stdout",
          "text": [
            "Validation Accuracy: 0.99\n",
            "              precision    recall  f1-score   support\n",
            "\n",
            "           0       0.99      0.99      0.99      3930\n",
            "           1       0.99      0.99      0.99      3570\n",
            "\n",
            "    accuracy                           0.99      7500\n",
            "   macro avg       0.99      0.99      0.99      7500\n",
            "weighted avg       0.99      0.99      0.99      7500\n",
            "\n",
            "testing Accuracy: 0.99\n",
            "              precision    recall  f1-score   support\n",
            "\n",
            "           0       0.99      0.99      0.99      4284\n",
            "           1       0.99      0.99      0.99      3983\n",
            "\n",
            "    accuracy                           0.99      8267\n",
            "   macro avg       0.99      0.99      0.99      8267\n",
            "weighted avg       0.99      0.99      0.99      8267\n",
            "\n"
          ]
        }
      ]
    },
    {
      "cell_type": "markdown",
      "source": [
        "###Since Validation accuracy and Testing accuracy are both almost the same and extremely high, it indicates that Model is generalizing well and is not Overfitting.\n",
        "\n"
      ],
      "metadata": {
        "id": "9iEJEaz17BD1"
      }
    },
    {
      "cell_type": "markdown",
      "source": [
        "###Since the XGBClassifier is performing well on the dataset and making accurate predictions with high accuracy, the XGBClassifier algorithm is the most suitable for this classification project."
      ],
      "metadata": {
        "id": "yimWYSWd75OS"
      }
    },
    {
      "cell_type": "markdown",
      "source": [
        "#AUC-ROC curve"
      ],
      "metadata": {
        "id": "j_2IRlV377L7"
      }
    },
    {
      "cell_type": "code",
      "source": [
        "# Required imports for the AUC-ROC curve\n",
        "from sklearn.metrics import roc_auc_score, roc_curve\n",
        "import matplotlib.pyplot as plt\n",
        "\n",
        "# Assuming xv_train, xv_test, y_train, Y, and XGBClassifier model are already defined\n",
        "# Calculate probabilities for the positive class\n",
        "y_probs_val = xgb.predict_proba(xv_val)[:, 1]  # Probabilities for class 1\n",
        "y_probs = xgb.predict_proba(xv_test)[:, 1]  # Probabilities for class 1\n",
        "\n",
        "# Calculate ROC metrics for val\n",
        "fpr, tpr, thresholds = roc_curve(y_val, y_probs_val)\n",
        "auc_score = roc_auc_score(y_val, y_probs_val)\n",
        "# Calculate ROC metrics for test\n",
        "fpr1, tpr1, thresholds1 = roc_curve(Y, y_probs)\n",
        "auc_score1 = roc_auc_score(Y, y_probs)\n",
        "\n",
        "# Plot the ROC curve for val\n",
        "plt.figure(figsize=(8, 6))\n",
        "plt.plot(fpr, tpr, color='blue', label=f'ROC curve (AUC = {auc_score:.2f})')\n",
        "plt.plot([0, 1], [0, 1], color='red', linestyle='--', label='Random Guess')\n",
        "plt.xlabel('False Positive Rate (FPR)')\n",
        "plt.ylabel('True Positive Rate (TPR)')\n",
        "plt.title('AUC-ROC Curve for train/val')\n",
        "plt.legend(loc='lower right')\n",
        "plt.grid()\n",
        "plt.show()\n",
        "# Plot the ROC curve for test\n",
        "plt.figure(figsize=(8, 6))\n",
        "plt.plot(fpr1, tpr1, color='blue', label=f'ROC curve (AUC = {auc_score1:.2f})')\n",
        "plt.plot([0, 1], [0, 1], color='red', linestyle='--', label='Random Guess')\n",
        "plt.xlabel('False Positive Rate (FPR)')\n",
        "plt.ylabel('True Positive Rate (TPR)')\n",
        "plt.title('AUC-ROC Curve for train/test')\n",
        "plt.legend(loc='lower right')\n",
        "plt.grid()\n",
        "plt.show()\n"
      ],
      "metadata": {
        "colab": {
          "base_uri": "https://localhost:8080/",
          "height": 1000
        },
        "id": "Mg5pIwquTZrl",
        "outputId": "3720addd-5238-4dcc-ecdd-269597fa7bce"
      },
      "execution_count": null,
      "outputs": [
        {
          "output_type": "display_data",
          "data": {
            "text/plain": [
              "<Figure size 800x600 with 1 Axes>"
            ],
            "image/png": "[encoded data removed]"
          },
          "metadata": {}
        },
        {
          "output_type": "display_data",
          "data": {
            "text/plain": [
              "<Figure size 800x600 with 1 Axes>"
            ],
            "image/png": "[encoded data removed]"
          },
          "metadata": {}
        }
      ]
    },
    {
      "cell_type": "markdown",
      "source": [
        "The model in this case is perfectly classifying the data with no overlap between the classes."
      ],
      "metadata": {
        "id": "1eBy-tOW9xyt"
      }
    },
    {
      "cell_type": "markdown",
      "source": [
        "#Model Testing"
      ],
      "metadata": {
        "id": "La9m8CrN9447"
      }
    },
    {
      "cell_type": "code",
      "source": [
        "def output_lable(n):\n",
        "    if n==0:\n",
        "        return \"Fake News\"\n",
        "    elif n==1:\n",
        "        return \"Real News\"\n",
        "\n",
        "def testing(news):\n",
        "    testing_news = {\"text\":[news]}\n",
        "    new_def_test = pd.DataFrame(testing_news)\n",
        "    new_def_test[\"text\"] = new_def_test[\"text\"].apply(preprocess)\n",
        "    new_x_test = new_def_test[\"text\"]\n",
        "    new_xv_test = vc.transform(new_x_test)\n",
        "    pred_XGB = xgb.predict(new_xv_test)\n",
        "\n",
        "    return print(\"\\nXGB Prediction: {}\".format(output_lable(pred_XGB[0])))"
      ],
      "metadata": {
        "id": "8v6kLiGA9gVz"
      },
      "execution_count": null,
      "outputs": []
    },
    {
      "cell_type": "markdown",
      "source": [
        "##Model Testing With Manual Entry"
      ],
      "metadata": {
        "id": "n0OeTCTw-ZVn"
      }
    },
    {
      "cell_type": "code",
      "source": [
        "news = str(input())\n",
        "testing(news)"
      ],
      "metadata": {
        "colab": {
          "base_uri": "https://localhost:8080/"
        },
        "id": "F4j3ltGS9gRb",
        "outputId": "ab8c5150-1582-482d-ba1c-9dcd0f8922f2"
      },
      "execution_count": null,
      "outputs": [
        {
          "output_type": "stream",
          "name": "stdout",
          "text": [
            "Before entering politics, Manmohan Singh was an economist. In 1991, when India’s economy was struggling, Prime Minister Narasimha Rao sought someone outside of politics with economic expertise to handle the crisis. This led to Manmohan Singh being appointed as the Finance Minister, despite having no prior political experience. Being new to politics, Singh was sensitive to criticism. In 1992, when he presented his first budget, opposition leader Atal Bihari Vajpayee heavily criticized it. As a skilled orator, Vajpayee’s words deeply affected Singh. His sensitive, non-political nature made him vulnerable to such attacks, and he was so distressed that he contemplated resigning. This episode highlighted Singh’s emotional response to political criticism, which he was not accustomed to handling.\n",
            "\n",
            "XGB Prediction: Real News\n"
          ]
        }
      ]
    },
    {
      "cell_type": "markdown",
      "source": [
        "#Classifying Fake-Real News and Saving it in '.txt' format."
      ],
      "metadata": {
        "id": "uHP7rjgmJfgy"
      }
    },
    {
      "cell_type": "code",
      "source": [
        "import pandas as pd\n",
        "import json\n",
        "\n",
        "# Function to classify and save results into a .txt file\n",
        "def classify_and_save(input_data, model, vectorizer, output_filename=\"result.txt\"):\n",
        "    # Preprocess the input text\n",
        "    input_data[\"text\"] = input_data[\"text\"].apply(preprocess)\n",
        "\n",
        "    # Transform the text data using the same vectorizer used during training\n",
        "    input_features = vectorizer.transform(input_data[\"text\"])  # Convert to array to match the model input format\n",
        "\n",
        "    # Predict using the trained model\n",
        "    predictions = model.predict(input_features)\n",
        "\n",
        "    # Map predictions to labels (0 -> Fake News, 1 -> Real News)\n",
        "    input_data[\"label\"] = [\"1\" if pred == 1 else \"0\" for pred in predictions]\n",
        "\n",
        "    # Save the result in a structured format\n",
        "    result_data = {\"results\": []}\n",
        "    for index, row in input_data.iterrows():\n",
        "        result_data[\"results\"].append([row[\"text\"], row[\"label\"]])\n",
        "\n",
        "    # Write the results to a text file\n",
        "    with open(output_filename, 'w') as file:\n",
        "        json.dump(result_data, file, indent=4)\n",
        "\n",
        "    print(f\"Results saved in {output_filename}\")\n",
        "\n",
        "\n"
      ],
      "metadata": {
        "colab": {
          "base_uri": "https://localhost:8080/"
        },
        "id": "7Q5PpF4i-gVq",
        "outputId": "867cdfc0-a1aa-4940-90de-a2fd9eed4251"
      },
      "execution_count": null,
      "outputs": [
        {
          "output_type": "stream",
          "name": "stdout",
          "text": [
            "Results saved in result.txt\n"
          ]
        }
      ]
    },
    {
      "cell_type": "markdown",
      "source": [
        "##Testing on your dataset"
      ],
      "metadata": {
        "id": "nrTZAk1PgzN0"
      }
    },
    {
      "cell_type": "code",
      "source": [
        "\n",
        "#use this ---->>>\n",
        "# test_data = read_csv('file_path',sep='\\t')\n",
        "# classify_and_save(test_data['text'], xgb, vc, output_filename=\"result.txt\")\n",
        "\n",
        "# Demo\n",
        "test_data = pd.DataFrame({\n",
        "    \"text\": [\n",
        "        \"Before entering politics, Manmohan Singh was an economist. In 1991, when India’s economy was struggling, Prime Minister Narasimha Rao sought someone outside of politics with economic expertise to handle the crisis. This led to Manmohan Singh being appointed as the Finance Minister, despite having no prior political experience. Being new to politics, Singh was sensitive to criticism. In 1992, when he presented his first budget, opposition leader Atal Bihari Vajpayee heavily criticized it. As a skilled orator, Vajpayee’s words deeply affected Singh. His sensitive, non-political nature made him vulnerable to such attacks, and he was so distressed that he contemplated resigning. This episode highlighted Singh’s emotional response to political criticism, which he was not accustomed to handling.\",\n",
        "        \"Nepal bombed Nagasaki in 1947\",\n",
        "        \"In the past ten years, the BJP government has left no stone unturned in castigating Punjab, Punjabis and Punjabiyat.750 farmers, mostly belonging to Punjab, were martyred while incessantly waiting at Delhi borders, for months together. As if the lathis and the rubber bullets were not enough, none less than the Prime Minister verbally assaulted our farmers by calling them Andolanjeevis and Parjeevi (Parasites) on the floor of the Parliament.Their only demand was the withdrawal of the three farm laws imposed on them without consulting them.\"\n",
        "    ]\n",
        "})\n",
        "classify_and_save(test_data, xgb, vc, output_filename=\"result.txt\")"
      ],
      "metadata": {
        "id": "EPT-hWEfFvWZ"
      },
      "execution_count": null,
      "outputs": []
    }
  ]
}